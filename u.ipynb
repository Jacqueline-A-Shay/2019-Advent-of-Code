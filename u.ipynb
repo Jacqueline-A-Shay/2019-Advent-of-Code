{
 "cells": [
  {
   "cell_type": "markdown",
   "metadata": {},
   "source": [
    "--- Day 2: 1202 Program Alarm ---\n",
    "On the way to your gravity assist around the Moon, your ship computer beeps angrily about a \"1202 program alarm\". On the radio, an Elf is already explaining how to handle the situation: \"Don't worry, that's perfectly norma--\" The ship computer bursts into flames.\n",
    "\n",
    "You notify the Elves that the computer's magic smoke seems to have escaped. \"That computer ran Intcode programs like the gravity assist program it was working on; surely there are enough spare parts up there to build a new Intcode computer!\"\n",
    "\n",
    "An Intcode program is a list of integers separated by commas (like 1,0,0,3,99). To run one, start by looking at the **first integer (called position 0)**. Here, you will find an **opcode - either 1, 2, or 99**. The opcode indicates what to do; for example, 99 means that the program is finished and should immediately halt. **Encountering an unknown opcode means something went wrong.**\n",
    "\n",
    "**Opcode 1** adds together numbers read from two positions and stores the result in a third position. The three integers immediately after the opcode tell you these three positions - the first two indicate the positions from which you should read the input values, and the third indicates the position at which the output should be stored.\n",
    "\n",
    "For example, if your Intcode computer encounters 1,10,20,30, it should read the values at positions 10 and 20, add those values, and then overwrite the value at position 30 with their sum.\n",
    "\n",
    "**Opcode 2** works exactly like opcode 1, except it **multiplies** the two inputs instead of adding them. Again, the three integers after the opcode indicate where the inputs and outputs are, not their values.\n",
    "\n",
    "Once you're done processing an opcode, move to the next one by stepping forward 4 positions.\n",
    "\n",
    "For example, suppose you have the following program:\n",
    "\n",
    "1,9,10,3,2,3,11,0,99,30,40,50\n",
    "For the purposes of illustration, here is the same program split into multiple lines:\n",
    "\n",
    "1,9,10,3,\n",
    "2,3,11,0,\n",
    "99,\n",
    "30,40,50\n",
    "\n",
    "The first four integers, 1,9,10,3, are at positions 0, 1, 2, and 3. Together, they represent the first opcode (1, addition), the positions of the two inputs (9 and 10), and the position of the output (3). To handle this opcode, you first need to get the values at the input positions: position 9 contains 30, and position 10 contains 40. Add these numbers together to get 70. Then, store this value at the output position; here, the output position (3) is at position 3, so it overwrites itself. Afterward, the program looks like this:\n",
    "\n",
    "1,9,10,70,\n",
    "2,3,11,0,\n",
    "99,30,40,50\n",
    "\n",
    "Step forward 4 positions to reach the next opcode, 2. This opcode works just like the previous, but it multiplies instead of adding. The inputs are at positions 3 and 11; these positions contain 70 and 50 respectively. Multiplying these produces 3500; this is stored at position 0:\n",
    "\n",
    "3500,9,10,70,\n",
    "2,3,11,0,\n",
    "99,\n",
    "30,40,50\n",
    "Stepping forward 4 more positions arrives at opcode 99, halting the program.\n",
    "\n",
    "Here are the initial and final states of a few more small programs:\n",
    "\n",
    "1,0,0,0,99 becomes 2,0,0,0,99 (1 + 1 = 2).\n",
    "2,3,0,3,99 becomes 2,3,0,6,99 (3 * 2 = 6).\n",
    "2,4,4,5,99,0 becomes 2,4,4,5,99,9801 (99 * 99 = 9801).\n",
    "1,1,1,4,99,5,6,0,99 becomes 30,1,1,4,2,5,6,0,99.\n",
    "Once you have a working computer, the first step is to restore the gravity assist program (your puzzle input) to the \"1202 program alarm\" state it had just before the last computer caught fire. To do this, before running the program, replace position 1 with the value 12 and replace position 2 with the value 2. What value is left at position 0 after the program halts?"
   ]
  },
  {
   "cell_type": "markdown",
   "metadata": {},
   "source": [
    "<div class = \"alert alert-warning\"> \n",
    "<b> Section 1 Summary: Rescue the blowed up computer and resume mission </b>\n",
    "\n",
    "**Initial Thoughts**\n",
    "\n",
    "1. Import data as a list for list comprehension/ slicing could be useful\n",
    "\n",
    "2. Restore to 1202 program alarm:\n",
    "> replace position 1 with the value 12 \n",
    ">\n",
    "> replace position 2 with the value 2. \n",
    "\n",
    "3. Find out what value is left at position 0 after the program halts?\n",
    "\n",
    "4. Program running guide - understand the opcode, in group of 4:\n",
    "\n",
    "**Example code** 1,9,10,3,2,3,11,0,99,30,40,50\n",
    "\n",
    "1,9,10,70, result from: add position 9 & 10 **30+40=70**, replace position 3 **3 > 70**\n",
    "2,3,11,0,  result from: multiply position 3 & 11 **70*50**, replace position \n",
    "99,30,40,50\n",
    "\n",
    "> opcode 1: \n",
    "\n",
    "\n",
    "**Opcode 1** adds together numbers read from two positions and stores the result in a third position. The three integers immediately after the opcode tell you these three positions - the first two indicate the positions from which you should read the input values, and the third indicates the position at which the output should be stored.\n",
    "\n",
    "For example, if your Intcode computer encounters 1,10,20,30, it should read the values at positions 10 and 20, add those values, and then overwrite the value at position 30 with their sum.\n",
    "\n",
    "**Opcode 2** works exactly like opcode 1, except it **multiplies** the two inputs instead of adding them. Again, the three integers after the opcode indicate where the inputs and outputs are, not their values.\n",
    "</div>"
   ]
  },
  {
   "cell_type": "code",
   "execution_count": 336,
   "metadata": {},
   "outputs": [],
   "source": [
    "import pandas as pd\n",
    "import numpy as np"
   ]
  },
  {
   "cell_type": "code",
   "execution_count": 213,
   "metadata": {},
   "outputs": [],
   "source": [
    "df = pd.read_csv('12.02.2019.txt', sep = ',',header = None).T"
   ]
  },
  {
   "cell_type": "code",
   "execution_count": 214,
   "metadata": {},
   "outputs": [],
   "source": [
    "df.rename(columns = {0: \"code\"}, inplace = True)"
   ]
  },
  {
   "cell_type": "code",
   "execution_count": 215,
   "metadata": {},
   "outputs": [
    {
     "data": {
      "text/plain": [
       "(137, 1)"
      ]
     },
     "execution_count": 215,
     "metadata": {},
     "output_type": "execute_result"
    }
   ],
   "source": [
    "df.shape"
   ]
  },
  {
   "cell_type": "code",
   "execution_count": 244,
   "metadata": {},
   "outputs": [],
   "source": [
    "llist = [1,9,10,3,\n",
    "         2,3,11,0,\n",
    "         99,30,40,50]\n",
    "# ans: 3500,9,10,70, 2,3,11,0, 99, 30,40,50"
   ]
  },
  {
   "cell_type": "code",
   "execution_count": 262,
   "metadata": {},
   "outputs": [],
   "source": [
    "def code_generator(data):\n",
    "    for i in range(0,len(data), 4):\n",
    "        p1 = i + 1\n",
    "        p2 = i + 2\n",
    "        p3 = i + 3\n",
    "        if data[i] == 1:\n",
    "            data[data[p3]] = data[data[p1]] + data[data[p2]]\n",
    "        elif data[i] == 2:\n",
    "            data[data[p3]] = data[data[p1]] * data[data[p2]]\n",
    "        elif data[i] == 99:\n",
    "            return data "
   ]
  },
  {
   "cell_type": "code",
   "execution_count": 249,
   "metadata": {},
   "outputs": [
    {
     "data": {
      "text/plain": [
       "[3500, 9, 10, 70, 2, 3, 11, 0, 99, 30, 40, 50]"
      ]
     },
     "execution_count": 249,
     "metadata": {},
     "output_type": "execute_result"
    }
   ],
   "source": [
    "code_generator(llist)"
   ]
  },
  {
   "cell_type": "code",
   "execution_count": 270,
   "metadata": {},
   "outputs": [],
   "source": [
    "data = [1,0,0,3,1,1,2,3,1,3,4,3,1,5,0,3,2,1,10,19,1,19,5,23,1,6,23,27,1,27,5,31,2,31,10,35,2,35,6,39,1,39,5,43,2,43,9,47,1,47,6,51,1,13,51,55,2,9,55,59,1,59,13,63,1,6,63,67,2,67,10,71,1,9,71,75,2,75,6,79,1,79,5,83,1,83,5,87,2,9,87,91,2,9,91,95,1,95,10,99,1,9,99,103,2,103,6,107,2,9,107,111,1,111,5,115,2,6,115,119,1,5,119,123,1,123,2,127,1,127,9,0,99,2,0,14,0]"
   ]
  },
  {
   "cell_type": "code",
   "execution_count": 271,
   "metadata": {},
   "outputs": [],
   "source": [
    "# preprocess\n",
    "# replace position 1 with the value 12 \n",
    "# replace position 2 with the value 2\n",
    "data[1] = 12\n",
    "data[2] = 2"
   ]
  },
  {
   "cell_type": "code",
   "execution_count": 261,
   "metadata": {
    "scrolled": true
   },
   "outputs": [
    {
     "name": "stdout",
     "output_type": "stream",
     "text": [
      "The answer to Day2 - part1 is: 3267740\n"
     ]
    }
   ],
   "source": [
    "print(f'The answer to Day2 - part1 is: {code_generator(data)[0]}')"
   ]
  },
  {
   "cell_type": "markdown",
   "metadata": {},
   "source": [
    "--- Part Two ---\n",
    "\"Good, the new computer seems to be working correctly! Keep it nearby during this mission - you'll probably use it again. Real Intcode computers support many more features than your new one, but we'll let you know what they are as you need them.\"\n",
    "\n",
    "\"However, your current priority should be to complete your gravity assist around the Moon. For this mission to succeed, we should settle on some terminology for the parts you've already built.\"\n",
    "\n",
    "Intcode programs are given as a list of integers; these values are used as the initial state for the computer's memory. When you run an Intcode program, make sure to start by initializing memory to the program's values. A position in memory is called an address (for example, the first value in memory is at \"address 0\").\n",
    "\n",
    "Opcodes (like 1, 2, or 99) mark the beginning of an instruction. The values used immediately after an opcode, if any, are called the instruction's parameters. For example, in the instruction 1,2,3,4, 1 is the opcode; 2, 3, and 4 are the parameters. The instruction 99 contains only an opcode and has no parameters.\n",
    "\n",
    "The address of the current instruction is called the instruction pointer; it starts at 0. After an instruction finishes, the instruction pointer increases by the number of values in the instruction; until you add more instructions to the computer, this is always 4 (1 opcode + 3 parameters) for the add and multiply instructions. (The halt instruction would increase the instruction pointer by 1, but it halts the program instead.)\n",
    "\n",
    "\"With terminology out of the way, we're ready to proceed. To complete the gravity assist, you need to determine what pair of inputs produces the output 19690720.\"\n",
    "\n",
    "The inputs should still be provided to the program by replacing the values at addresses 1 and 2, just like before. In this program, the value placed in address 1 is called the noun, and the value placed in address 2 is called the verb. Each of the two input values will be between 0 and 99, inclusive.\n",
    "\n",
    "Once the program has halted, its output is available at address 0, also just like before. Each time you try a pair of inputs, make sure you first reset the computer's memory to the values in the program (your puzzle input) - in other words, don't reuse memory from a previous attempt.\n",
    "\n",
    "Find the input noun and verb that cause the program to produce the output 19690720. What is 100 * noun + verb? (For example, if noun=12 and verb=2, the answer would be 1202.)"
   ]
  },
  {
   "cell_type": "markdown",
   "metadata": {},
   "source": [
    "**what pair of inputs produces the output 19690720**"
   ]
  },
  {
   "cell_type": "markdown",
   "metadata": {},
   "source": [
    "- Reaching 99, program halt, its output is available at address 0\n",
    "- Each time you try a pair of inputs, make sure you first reset the computer's memory to the values in the program (your puzzle input) - in other words, don't reuse memory from a previous attempt.\n",
    "\n",
    "- Find the input noun and verb that cause the program to produce the output 19690720. What is 100 * noun + verb? (For example, if noun=12 and verb=2, the answer would be 1202.)"
   ]
  },
  {
   "cell_type": "code",
   "execution_count": 337,
   "metadata": {},
   "outputs": [],
   "source": [
    "def acquire():\n",
    "\n",
    "    data = open(\"12.02.2019.txt\", \"r\").read() # read file\n",
    "    data = data.split(',') # get rid of the comma\n",
    "    data = list(data) # change into list\n",
    "    data = [int(i) for i in data] # list comprehension to change dtype into int\n",
    "    data[1] = 12\n",
    "    data[2] = 2\n",
    "    # process data as instructed, \n",
    "    # namely, replace position 1 with 12 & position 2 with 2\n",
    "    return data"
   ]
  },
  {
   "cell_type": "code",
   "execution_count": 359,
   "metadata": {
    "scrolled": false
   },
   "outputs": [
    {
     "name": "stdout",
     "output_type": "stream",
     "text": [
      "GOTCHA!\n",
      "\n",
      "\n",
      "[19690720, 78, 70, 2, 1, 1, 2, 3, 1, 3, 4, 3, 1, 5, 0, 3, 2, 1, 10, 312, 1, 19, 5, 313, 1, 6, 23, 315, 1, 27, 5, 316, 2, 31, 10, 1264, 2, 35, 6, 2528, 1, 39, 5, 2529, 2, 43, 9, 7587, 1, 47, 6, 7589, 1, 13, 51, 7594, 2, 9, 55, 22782, 1, 59, 13, 22787, 1, 6, 63, 22789, 2, 67, 10, 91156, 1, 9, 71, 91159, 2, 75, 6, 182318, 1, 79, 5, 182319, 1, 83, 5, 182320, 2, 9, 87, 546960, 2, 9, 91, 1640880, 1, 95, 10, 1640884, 1, 9, 99, 1640887, 2, 103, 6, 3281774, 2, 9, 107, 9845322, 1, 111, 5, 9845323, 2, 6, 115, 19690646, 1, 5, 119, 19690647, 1, 123, 2, 19690717, 1, 127, 9, 0, 99, 2, 0, 14, 0]\n",
      "\n",
      "\n",
      "The winning NOUN is: 78, and winning VERB is: 70\n",
      "\n",
      "\n",
      "Solution: 7870\n"
     ]
    }
   ],
   "source": [
    "for noun in range(100):\n",
    "    # because each \"position\" could be between 0 thru 99, thus the range is 100\n",
    "    for verb in range(100):\n",
    "        data = acquire() # get fresh data for each iteration\n",
    "        \n",
    "        data[1] = noun\n",
    "        data[2] = verb\n",
    "        # test\n",
    "        # first iterating 0-99 for second position\n",
    "        # then iterating the combination of 0-99 for both position 1 & 2\n",
    "        # see what combination brings about the winning number of \"19690720\"\n",
    "        if code_generator(data)[0] == 19690720: \n",
    "            # when the winning number present \n",
    "            # we'll print out the position 1&2 leading to win\n",
    "            # and stop the calculation\n",
    "            print('GOTCHA!')\n",
    "            print('\\n')\n",
    "            print(data)\n",
    "            print('\\n')\n",
    "            print(f\"The winning NOUN is: {noun}, and winning VERB is: {verb}\")\n",
    "            print('\\n')\n",
    "            print(f\"Solution: {100 * data[1] + data[2]}\")\n",
    "            break # gotcha! so we can wrap up this round\n",
    "    else:\n",
    "        continue # if we haven't catch the winning number, proceed to the next combination    "
   ]
  },
  {
   "cell_type": "code",
   "execution_count": 153,
   "metadata": {},
   "outputs": [],
   "source": [
    "def chunk_it(data, n):\n",
    "    for i in range(0,len(data), n):\n",
    "        yield data[i: i+n]"
   ]
  }
 ],
 "metadata": {
  "kernelspec": {
   "display_name": "Python 3",
   "language": "python",
   "name": "python3"
  },
  "language_info": {
   "codemirror_mode": {
    "name": "ipython",
    "version": 3
   },
   "file_extension": ".py",
   "mimetype": "text/x-python",
   "name": "python",
   "nbconvert_exporter": "python",
   "pygments_lexer": "ipython3",
   "version": "3.7.3"
  },
  "toc": {
   "base_numbering": 1,
   "nav_menu": {},
   "number_sections": true,
   "sideBar": true,
   "skip_h1_title": false,
   "title_cell": "Table of Contents",
   "title_sidebar": "Contents",
   "toc_cell": false,
   "toc_position": {},
   "toc_section_display": true,
   "toc_window_display": false
  },
  "varInspector": {
   "cols": {
    "lenName": 16,
    "lenType": 16,
    "lenVar": 40
   },
   "kernels_config": {
    "python": {
     "delete_cmd_postfix": "",
     "delete_cmd_prefix": "del ",
     "library": "var_list.py",
     "varRefreshCmd": "print(var_dic_list())"
    },
    "r": {
     "delete_cmd_postfix": ") ",
     "delete_cmd_prefix": "rm(",
     "library": "var_list.r",
     "varRefreshCmd": "cat(var_dic_list()) "
    }
   },
   "types_to_exclude": [
    "module",
    "function",
    "builtin_function_or_method",
    "instance",
    "_Feature"
   ],
   "window_display": false
  }
 },
 "nbformat": 4,
 "nbformat_minor": 2
}
